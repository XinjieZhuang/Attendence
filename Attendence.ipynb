{
 "cells": [
  {
   "cell_type": "code",
   "execution_count": 7,
   "metadata": {},
   "outputs": [],
   "source": [
    "\n",
    "from tkinter import messagebox\n",
    "import sqlite3 as sql\n",
    "from sqlite3 import Error\n",
    "from tkinter import *\n",
    "import tkinter as tk\n",
    "from tkinter import ttk"
   ]
  },
  {
   "cell_type": "code",
   "execution_count": 5,
   "metadata": {},
   "outputs": [
    {
     "name": "stdout",
     "output_type": "stream",
     "text": [
      "Requirement already satisfied: mysql.connector in /Library/Frameworks/Python.framework/Versions/3.10/lib/python3.10/site-packages (2.2.9)\n",
      "Note: you may need to restart the kernel to use updated packages.\n"
     ]
    }
   ],
   "source": [
    "pip install mysql.connector"
   ]
  },
  {
   "cell_type": "code",
   "execution_count": 3,
   "metadata": {},
   "outputs": [],
   "source": [
    "import tkinter as tk\n",
    "import mysql.connector\n",
    "from tkinter import *\n",
    "\n",
    "def regesitration():\n",
    " \tprint('click')\n",
    "\n",
    "def submitact():\n",
    "\t\n",
    "\tuser = Username.get()\n",
    "\tpassw = password.get()\n",
    "\n",
    "\tprint(f\"The name entered by you is {user} {passw}\")\n",
    "\n",
    "\tlogintodb(user, passw)\n",
    "\n",
    "\n",
    "def logintodb(user, passw):\n",
    "\t\n",
    "\t# If password is enetered by the\n",
    "\t# user\n",
    "\tif passw:\n",
    "\t\tdb = mysql.connector.connect(host =\"localhost\",\n",
    "\t\t\t\t\t\t\t\t\tuser = user,\n",
    "\t\t\t\t\t\t\t\t\tpassword = passw,\n",
    "\t\t\t\t\t\t\t\t\tdb =\"College\")\n",
    "\t\tcursor = db.cursor()\n",
    "\t\t\n",
    "\t# If no password is enetered by the\n",
    "\t# user\n",
    "\telse:\n",
    "\t\tdb = mysql.connector.connect(host =\"localhost\",\n",
    "\t\t\t\t\t\t\t\t\tuser = user,\n",
    "\t\t\t\t\t\t\t\t\tdb =\"College\")\n",
    "\t\tcursor = db.cursor()\n",
    "\t\t\n",
    "\t# A Table in the database\n",
    "\tsavequery = \"select * from STUDENT\"\n",
    "\t\n",
    "\ttry:\n",
    "\t\tcursor.execute(savequery)\n",
    "\t\tmyresult = cursor.fetchall()\n",
    "\t\t\n",
    "\t\t# Printing the result of the\n",
    "\t\t# query\n",
    "\t\tfor x in myresult:\n",
    "\t\t\tprint(x)\n",
    "\t\tprint(\"Query Executed successfully\")\n",
    "\t\t\n",
    "\texcept:\n",
    "\t\tdb.rollback()\n",
    "\t\tprint(\"Error occured\")\n",
    "\n",
    "\n",
    "root = tk.Tk()\n",
    "root.geometry(\"300x300\")\n",
    "root.title(\"Attendance Login Page\")\n",
    "\n",
    "\n",
    "# Defining the first row\n",
    "userName_label = tk.Label(root, text =\"Username -\", )\n",
    "userName_label.place(x = 50, y = 20)\n",
    "\n",
    "Username = tk.Entry(root, width = 40)\n",
    "Username.place(x = 150, y = 20, width = 100)\n",
    "\n",
    "passwordLabel = tk.Label(root, text =\"Password -\")\n",
    "passwordLabel.place(x = 50, y = 50)\n",
    "\n",
    "password = tk.Entry(root, show='*',width = 40)\n",
    "password.place(x = 150, y = 50, width = 100)\n",
    "\n",
    "submitButton = tk.Button(root, text =\"Login\", command = submitact)\n",
    "submitButton.place(x = 150, y = 135, width = 55)\n",
    "\n",
    "regesiterButton=tk.Button(root,text='Sign up',command=regesitration)\n",
    "regesiterButton.place(x=150,y=165,width=55)\n",
    "root.mainloop()\n",
    "\n"
   ]
  },
  {
   "cell_type": "code",
   "execution_count": null,
   "metadata": {},
   "outputs": [],
   "source": []
  }
 ],
 "metadata": {
  "interpreter": {
   "hash": "aee8b7b246df8f9039afb4144a1f6fd8d2ca17a180786b69acc140d282b71a49"
  },
  "kernelspec": {
   "display_name": "Python 3.10.0 64-bit",
   "language": "python",
   "name": "python3"
  },
  "language_info": {
   "codemirror_mode": {
    "name": "ipython",
    "version": 3
   },
   "file_extension": ".py",
   "mimetype": "text/x-python",
   "name": "python",
   "nbconvert_exporter": "python",
   "pygments_lexer": "ipython3",
   "version": "3.10.0"
  },
  "orig_nbformat": 4
 },
 "nbformat": 4,
 "nbformat_minor": 2
}
