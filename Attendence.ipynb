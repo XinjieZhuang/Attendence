{
 "cells": [
  {
   "cell_type": "code",
   "execution_count": 10,
   "metadata": {},
   "outputs": [],
   "source": [
    "\n",
    "from tkinter import messagebox\n",
    "import sqlite3 as sql\n",
    "from tkinter import *\n",
    "import tkinter as tk"
   ]
  },
  {
   "cell_type": "code",
   "execution_count": 12,
   "metadata": {},
   "outputs": [],
   "source": [
    "root = tk.Tk()\n",
    "root.title('Attendance Application')\n",
    "window_width = 800\n",
    "window_height = 600\n",
    "\n",
    "# get the screen dimension\n",
    "screen_width = root.winfo_screenwidth()\n",
    "screen_height = root.winfo_screenheight()\n",
    "\n",
    "# find the center point\n",
    "center_x = int(screen_width/2 - window_width / 2)\n",
    "center_y = int(screen_height/2 - window_height / 2)\n",
    "\n",
    "# set the position of the window to the center of the screen\n",
    "root.geometry(f'{window_width}x{window_height}+{center_x}+{center_y}')\n",
    "\n",
    "label = ttk.Label(root)\n",
    "label['text'] = 'add record'\n",
    "\n",
    "def sign_button_clicked():\n",
    "    print('Button clicked')\n",
    "    \n",
    "def logout_button_clicked():\n",
    "    print('Button clicked')\n",
    "sign_in_button=ttk.Button(root, text='Sign in',command=sign_button_clicked)\n",
    "logout_button_clicked=ttk.Button(root,text='log out',command=logout_button_clicked)\n",
    "\n",
    "sign_in_button.pack()\n",
    "logout_button_clicked.pack()\n",
    "label.pack()\n",
    "root.mainloop()"
   ]
  }
 ],
 "metadata": {
  "interpreter": {
   "hash": "aee8b7b246df8f9039afb4144a1f6fd8d2ca17a180786b69acc140d282b71a49"
  },
  "kernelspec": {
   "display_name": "Python 3.10.0 64-bit",
   "language": "python",
   "name": "python3"
  },
  "language_info": {
   "codemirror_mode": {
    "name": "ipython",
    "version": 3
   },
   "file_extension": ".py",
   "mimetype": "text/x-python",
   "name": "python",
   "nbconvert_exporter": "python",
   "pygments_lexer": "ipython3",
   "version": "3.10.0"
  },
  "orig_nbformat": 4
 },
 "nbformat": 4,
 "nbformat_minor": 2
}
